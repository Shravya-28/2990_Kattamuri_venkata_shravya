{
 "cells": [
  {
   "cell_type": "code",
   "execution_count": 1,
   "id": "a7de2e8f",
   "metadata": {
    "_cell_guid": "b1076dfc-b9ad-4769-8c92-a6c4dae69d19",
    "_uuid": "8f2839f25d086af736a60e9eeb907d3b93b6e0e5",
    "execution": {
     "iopub.execute_input": "2023-06-21T16:11:03.279311Z",
     "iopub.status.busy": "2023-06-21T16:11:03.278371Z",
     "iopub.status.idle": "2023-06-21T16:11:05.172235Z",
     "shell.execute_reply": "2023-06-21T16:11:05.170471Z"
    },
    "papermill": {
     "duration": 1.90706,
     "end_time": "2023-06-21T16:11:05.175397",
     "exception": false,
     "start_time": "2023-06-21T16:11:03.268337",
     "status": "completed"
    },
    "tags": []
   },
   "outputs": [
    {
     "name": "stdout",
     "output_type": "stream",
     "text": [
      "/kaggle/input/practice-hackathon/sample_submission.csv\n",
      "/kaggle/input/practice-hackathon/Train.csv\n",
      "/kaggle/input/practice-hackathon/Test.csv\n"
     ]
    }
   ],
   "source": [
    "# This Python 3 environment comes with many helpful analytics libraries installed\n",
    "# It is defined by the kaggle/python Docker image: https://github.com/kaggle/docker-python\n",
    "# For example, here's several helpful packages to load\n",
    "\n",
    "import numpy as np # linear algebra\n",
    "import pandas as pd# data processing, CSV file I/O (e.g. pd.read_csv)\n",
    "from sklearn.svm import SVR\n",
    "from sklearn.pipeline import make_pipeline\n",
    "from sklearn.preprocessing import StandardScaler\n",
    "from sklearn.metrics import mean_squared_error\n",
    "from sklearn.model_selection import train_test_split\n",
    "from sklearn import preprocessing\n",
    "\n",
    "# Input data files are available in the read-only \"../input/\" directory\n",
    "# For example, running this (by clicking run or pressing Shift+Enter) will list all files under the input directory\n",
    "\n",
    "import os\n",
    "for dirname, _, filenames in os.walk('/kaggle/input'):\n",
    "    for filename in filenames:\n",
    "        print(os.path.join(dirname, filename))\n",
    "\n",
    "# You can write up to 20GB to the current directory (/kaggle/working/) that gets preserved as output when you create a version using \"Save & Run All\" \n",
    "# You can also write temporary files to /kaggle/temp/, but they won't be saved outside of the current session"
   ]
  },
  {
   "cell_type": "code",
   "execution_count": 2,
   "id": "b7b7613b",
   "metadata": {
    "execution": {
     "iopub.execute_input": "2023-06-21T16:11:05.192194Z",
     "iopub.status.busy": "2023-06-21T16:11:05.191657Z",
     "iopub.status.idle": "2023-06-21T16:11:05.255996Z",
     "shell.execute_reply": "2023-06-21T16:11:05.254761Z"
    },
    "papermill": {
     "duration": 0.075889,
     "end_time": "2023-06-21T16:11:05.258752",
     "exception": false,
     "start_time": "2023-06-21T16:11:05.182863",
     "status": "completed"
    },
    "tags": []
   },
   "outputs": [
    {
     "data": {
      "text/html": [
       "<div>\n",
       "<style scoped>\n",
       "    .dataframe tbody tr th:only-of-type {\n",
       "        vertical-align: middle;\n",
       "    }\n",
       "\n",
       "    .dataframe tbody tr th {\n",
       "        vertical-align: top;\n",
       "    }\n",
       "\n",
       "    .dataframe thead th {\n",
       "        text-align: right;\n",
       "    }\n",
       "</style>\n",
       "<table border=\"1\" class=\"dataframe\">\n",
       "  <thead>\n",
       "    <tr style=\"text-align: right;\">\n",
       "      <th></th>\n",
       "      <th>A</th>\n",
       "      <th>B</th>\n",
       "      <th>C</th>\n",
       "      <th>D</th>\n",
       "      <th>E</th>\n",
       "      <th>F</th>\n",
       "      <th>G</th>\n",
       "      <th>H</th>\n",
       "      <th>Target</th>\n",
       "    </tr>\n",
       "  </thead>\n",
       "  <tbody>\n",
       "    <tr>\n",
       "      <th>0</th>\n",
       "      <td>F</td>\n",
       "      <td>0.615</td>\n",
       "      <td>0.455</td>\n",
       "      <td>0.135</td>\n",
       "      <td>1.0590</td>\n",
       "      <td>0.4735</td>\n",
       "      <td>0.2630</td>\n",
       "      <td>0.274</td>\n",
       "      <td>9</td>\n",
       "    </tr>\n",
       "    <tr>\n",
       "      <th>1</th>\n",
       "      <td>F</td>\n",
       "      <td>0.515</td>\n",
       "      <td>0.395</td>\n",
       "      <td>0.140</td>\n",
       "      <td>0.6860</td>\n",
       "      <td>0.2810</td>\n",
       "      <td>0.1255</td>\n",
       "      <td>0.220</td>\n",
       "      <td>12</td>\n",
       "    </tr>\n",
       "    <tr>\n",
       "      <th>2</th>\n",
       "      <td>M</td>\n",
       "      <td>0.660</td>\n",
       "      <td>0.530</td>\n",
       "      <td>0.175</td>\n",
       "      <td>1.5830</td>\n",
       "      <td>0.7395</td>\n",
       "      <td>0.3505</td>\n",
       "      <td>0.405</td>\n",
       "      <td>10</td>\n",
       "    </tr>\n",
       "    <tr>\n",
       "      <th>3</th>\n",
       "      <td>M</td>\n",
       "      <td>0.455</td>\n",
       "      <td>0.365</td>\n",
       "      <td>0.095</td>\n",
       "      <td>0.5140</td>\n",
       "      <td>0.2245</td>\n",
       "      <td>0.1010</td>\n",
       "      <td>0.150</td>\n",
       "      <td>15</td>\n",
       "    </tr>\n",
       "    <tr>\n",
       "      <th>4</th>\n",
       "      <td>M</td>\n",
       "      <td>0.495</td>\n",
       "      <td>0.400</td>\n",
       "      <td>0.155</td>\n",
       "      <td>0.8085</td>\n",
       "      <td>0.2345</td>\n",
       "      <td>0.1155</td>\n",
       "      <td>0.350</td>\n",
       "      <td>6</td>\n",
       "    </tr>\n",
       "  </tbody>\n",
       "</table>\n",
       "</div>"
      ],
      "text/plain": [
       "   A      B      C      D       E       F       G      H  Target\n",
       "0  F  0.615  0.455  0.135  1.0590  0.4735  0.2630  0.274       9\n",
       "1  F  0.515  0.395  0.140  0.6860  0.2810  0.1255  0.220      12\n",
       "2  M  0.660  0.530  0.175  1.5830  0.7395  0.3505  0.405      10\n",
       "3  M  0.455  0.365  0.095  0.5140  0.2245  0.1010  0.150      15\n",
       "4  M  0.495  0.400  0.155  0.8085  0.2345  0.1155  0.350       6"
      ]
     },
     "execution_count": 2,
     "metadata": {},
     "output_type": "execute_result"
    }
   ],
   "source": [
    "train = pd.read_csv('/kaggle/input/practice-hackathon/Train.csv')\n",
    "train.head()"
   ]
  },
  {
   "cell_type": "code",
   "execution_count": 3,
   "id": "e0e47632",
   "metadata": {
    "execution": {
     "iopub.execute_input": "2023-06-21T16:11:05.278997Z",
     "iopub.status.busy": "2023-06-21T16:11:05.277640Z",
     "iopub.status.idle": "2023-06-21T16:11:05.284644Z",
     "shell.execute_reply": "2023-06-21T16:11:05.283784Z"
    },
    "papermill": {
     "duration": 0.018825,
     "end_time": "2023-06-21T16:11:05.286848",
     "exception": false,
     "start_time": "2023-06-21T16:11:05.268023",
     "status": "completed"
    },
    "tags": []
   },
   "outputs": [
    {
     "data": {
      "text/plain": [
       "(3132, 9)"
      ]
     },
     "execution_count": 3,
     "metadata": {},
     "output_type": "execute_result"
    }
   ],
   "source": [
    "train.shape"
   ]
  },
  {
   "cell_type": "code",
   "execution_count": 4,
   "id": "2c142f56",
   "metadata": {
    "execution": {
     "iopub.execute_input": "2023-06-21T16:11:05.305118Z",
     "iopub.status.busy": "2023-06-21T16:11:05.304236Z",
     "iopub.status.idle": "2023-06-21T16:11:05.319092Z",
     "shell.execute_reply": "2023-06-21T16:11:05.317679Z"
    },
    "papermill": {
     "duration": 0.027178,
     "end_time": "2023-06-21T16:11:05.321918",
     "exception": false,
     "start_time": "2023-06-21T16:11:05.294740",
     "status": "completed"
    },
    "tags": []
   },
   "outputs": [
    {
     "data": {
      "text/plain": [
       "array([0, 2, 1])"
      ]
     },
     "execution_count": 4,
     "metadata": {},
     "output_type": "execute_result"
    }
   ],
   "source": [
    "label=preprocessing.LabelEncoder()\n",
    "train['A']=label.fit_transform(train['A'])\n",
    "train['A'].unique()"
   ]
  },
  {
   "cell_type": "code",
   "execution_count": 5,
   "id": "9779eb6a",
   "metadata": {
    "execution": {
     "iopub.execute_input": "2023-06-21T16:11:05.342104Z",
     "iopub.status.busy": "2023-06-21T16:11:05.341585Z",
     "iopub.status.idle": "2023-06-21T16:11:05.361688Z",
     "shell.execute_reply": "2023-06-21T16:11:05.360216Z"
    },
    "papermill": {
     "duration": 0.03459,
     "end_time": "2023-06-21T16:11:05.364610",
     "exception": false,
     "start_time": "2023-06-21T16:11:05.330020",
     "status": "completed"
    },
    "tags": []
   },
   "outputs": [
    {
     "data": {
      "text/html": [
       "<div>\n",
       "<style scoped>\n",
       "    .dataframe tbody tr th:only-of-type {\n",
       "        vertical-align: middle;\n",
       "    }\n",
       "\n",
       "    .dataframe tbody tr th {\n",
       "        vertical-align: top;\n",
       "    }\n",
       "\n",
       "    .dataframe thead th {\n",
       "        text-align: right;\n",
       "    }\n",
       "</style>\n",
       "<table border=\"1\" class=\"dataframe\">\n",
       "  <thead>\n",
       "    <tr style=\"text-align: right;\">\n",
       "      <th></th>\n",
       "      <th>A</th>\n",
       "      <th>B</th>\n",
       "      <th>C</th>\n",
       "      <th>D</th>\n",
       "      <th>E</th>\n",
       "      <th>F</th>\n",
       "      <th>G</th>\n",
       "      <th>H</th>\n",
       "      <th>Target</th>\n",
       "    </tr>\n",
       "  </thead>\n",
       "  <tbody>\n",
       "    <tr>\n",
       "      <th>0</th>\n",
       "      <td>0</td>\n",
       "      <td>0.615</td>\n",
       "      <td>0.455</td>\n",
       "      <td>0.135</td>\n",
       "      <td>1.0590</td>\n",
       "      <td>0.4735</td>\n",
       "      <td>0.2630</td>\n",
       "      <td>0.274</td>\n",
       "      <td>9</td>\n",
       "    </tr>\n",
       "    <tr>\n",
       "      <th>1</th>\n",
       "      <td>0</td>\n",
       "      <td>0.515</td>\n",
       "      <td>0.395</td>\n",
       "      <td>0.140</td>\n",
       "      <td>0.6860</td>\n",
       "      <td>0.2810</td>\n",
       "      <td>0.1255</td>\n",
       "      <td>0.220</td>\n",
       "      <td>12</td>\n",
       "    </tr>\n",
       "    <tr>\n",
       "      <th>2</th>\n",
       "      <td>2</td>\n",
       "      <td>0.660</td>\n",
       "      <td>0.530</td>\n",
       "      <td>0.175</td>\n",
       "      <td>1.5830</td>\n",
       "      <td>0.7395</td>\n",
       "      <td>0.3505</td>\n",
       "      <td>0.405</td>\n",
       "      <td>10</td>\n",
       "    </tr>\n",
       "    <tr>\n",
       "      <th>3</th>\n",
       "      <td>2</td>\n",
       "      <td>0.455</td>\n",
       "      <td>0.365</td>\n",
       "      <td>0.095</td>\n",
       "      <td>0.5140</td>\n",
       "      <td>0.2245</td>\n",
       "      <td>0.1010</td>\n",
       "      <td>0.150</td>\n",
       "      <td>15</td>\n",
       "    </tr>\n",
       "    <tr>\n",
       "      <th>4</th>\n",
       "      <td>2</td>\n",
       "      <td>0.495</td>\n",
       "      <td>0.400</td>\n",
       "      <td>0.155</td>\n",
       "      <td>0.8085</td>\n",
       "      <td>0.2345</td>\n",
       "      <td>0.1155</td>\n",
       "      <td>0.350</td>\n",
       "      <td>6</td>\n",
       "    </tr>\n",
       "  </tbody>\n",
       "</table>\n",
       "</div>"
      ],
      "text/plain": [
       "   A      B      C      D       E       F       G      H  Target\n",
       "0  0  0.615  0.455  0.135  1.0590  0.4735  0.2630  0.274       9\n",
       "1  0  0.515  0.395  0.140  0.6860  0.2810  0.1255  0.220      12\n",
       "2  2  0.660  0.530  0.175  1.5830  0.7395  0.3505  0.405      10\n",
       "3  2  0.455  0.365  0.095  0.5140  0.2245  0.1010  0.150      15\n",
       "4  2  0.495  0.400  0.155  0.8085  0.2345  0.1155  0.350       6"
      ]
     },
     "execution_count": 5,
     "metadata": {},
     "output_type": "execute_result"
    }
   ],
   "source": [
    "train.head()"
   ]
  },
  {
   "cell_type": "code",
   "execution_count": 6,
   "id": "3cf8d73a",
   "metadata": {
    "execution": {
     "iopub.execute_input": "2023-06-21T16:11:05.383671Z",
     "iopub.status.busy": "2023-06-21T16:11:05.383215Z",
     "iopub.status.idle": "2023-06-21T16:11:05.396793Z",
     "shell.execute_reply": "2023-06-21T16:11:05.395223Z"
    },
    "papermill": {
     "duration": 0.026696,
     "end_time": "2023-06-21T16:11:05.399743",
     "exception": false,
     "start_time": "2023-06-21T16:11:05.373047",
     "status": "completed"
    },
    "tags": []
   },
   "outputs": [],
   "source": [
    "x=train.drop('Target',axis=1)\n",
    "y=train['Target']"
   ]
  },
  {
   "cell_type": "code",
   "execution_count": 7,
   "id": "581a7b30",
   "metadata": {
    "execution": {
     "iopub.execute_input": "2023-06-21T16:11:05.419531Z",
     "iopub.status.busy": "2023-06-21T16:11:05.419078Z",
     "iopub.status.idle": "2023-06-21T16:11:05.429572Z",
     "shell.execute_reply": "2023-06-21T16:11:05.428007Z"
    },
    "papermill": {
     "duration": 0.024001,
     "end_time": "2023-06-21T16:11:05.432672",
     "exception": false,
     "start_time": "2023-06-21T16:11:05.408671",
     "status": "completed"
    },
    "tags": []
   },
   "outputs": [],
   "source": [
    "x_train,x_value,y_train,y_value=train_test_split(x,y,test_size=0.1,random_state=42)"
   ]
  },
  {
   "cell_type": "code",
   "execution_count": 8,
   "id": "a25c5fa5",
   "metadata": {
    "execution": {
     "iopub.execute_input": "2023-06-21T16:11:05.453106Z",
     "iopub.status.busy": "2023-06-21T16:11:05.452623Z",
     "iopub.status.idle": "2023-06-21T16:11:05.915945Z",
     "shell.execute_reply": "2023-06-21T16:11:05.914496Z"
    },
    "papermill": {
     "duration": 0.476533,
     "end_time": "2023-06-21T16:11:05.918934",
     "exception": false,
     "start_time": "2023-06-21T16:11:05.442401",
     "status": "completed"
    },
    "tags": []
   },
   "outputs": [
    {
     "data": {
      "text/html": [
       "<style>#sk-container-id-1 {color: black;background-color: white;}#sk-container-id-1 pre{padding: 0;}#sk-container-id-1 div.sk-toggleable {background-color: white;}#sk-container-id-1 label.sk-toggleable__label {cursor: pointer;display: block;width: 100%;margin-bottom: 0;padding: 0.3em;box-sizing: border-box;text-align: center;}#sk-container-id-1 label.sk-toggleable__label-arrow:before {content: \"▸\";float: left;margin-right: 0.25em;color: #696969;}#sk-container-id-1 label.sk-toggleable__label-arrow:hover:before {color: black;}#sk-container-id-1 div.sk-estimator:hover label.sk-toggleable__label-arrow:before {color: black;}#sk-container-id-1 div.sk-toggleable__content {max-height: 0;max-width: 0;overflow: hidden;text-align: left;background-color: #f0f8ff;}#sk-container-id-1 div.sk-toggleable__content pre {margin: 0.2em;color: black;border-radius: 0.25em;background-color: #f0f8ff;}#sk-container-id-1 input.sk-toggleable__control:checked~div.sk-toggleable__content {max-height: 200px;max-width: 100%;overflow: auto;}#sk-container-id-1 input.sk-toggleable__control:checked~label.sk-toggleable__label-arrow:before {content: \"▾\";}#sk-container-id-1 div.sk-estimator input.sk-toggleable__control:checked~label.sk-toggleable__label {background-color: #d4ebff;}#sk-container-id-1 div.sk-label input.sk-toggleable__control:checked~label.sk-toggleable__label {background-color: #d4ebff;}#sk-container-id-1 input.sk-hidden--visually {border: 0;clip: rect(1px 1px 1px 1px);clip: rect(1px, 1px, 1px, 1px);height: 1px;margin: -1px;overflow: hidden;padding: 0;position: absolute;width: 1px;}#sk-container-id-1 div.sk-estimator {font-family: monospace;background-color: #f0f8ff;border: 1px dotted black;border-radius: 0.25em;box-sizing: border-box;margin-bottom: 0.5em;}#sk-container-id-1 div.sk-estimator:hover {background-color: #d4ebff;}#sk-container-id-1 div.sk-parallel-item::after {content: \"\";width: 100%;border-bottom: 1px solid gray;flex-grow: 1;}#sk-container-id-1 div.sk-label:hover label.sk-toggleable__label {background-color: #d4ebff;}#sk-container-id-1 div.sk-serial::before {content: \"\";position: absolute;border-left: 1px solid gray;box-sizing: border-box;top: 0;bottom: 0;left: 50%;z-index: 0;}#sk-container-id-1 div.sk-serial {display: flex;flex-direction: column;align-items: center;background-color: white;padding-right: 0.2em;padding-left: 0.2em;position: relative;}#sk-container-id-1 div.sk-item {position: relative;z-index: 1;}#sk-container-id-1 div.sk-parallel {display: flex;align-items: stretch;justify-content: center;background-color: white;position: relative;}#sk-container-id-1 div.sk-item::before, #sk-container-id-1 div.sk-parallel-item::before {content: \"\";position: absolute;border-left: 1px solid gray;box-sizing: border-box;top: 0;bottom: 0;left: 50%;z-index: -1;}#sk-container-id-1 div.sk-parallel-item {display: flex;flex-direction: column;z-index: 1;position: relative;background-color: white;}#sk-container-id-1 div.sk-parallel-item:first-child::after {align-self: flex-end;width: 50%;}#sk-container-id-1 div.sk-parallel-item:last-child::after {align-self: flex-start;width: 50%;}#sk-container-id-1 div.sk-parallel-item:only-child::after {width: 0;}#sk-container-id-1 div.sk-dashed-wrapped {border: 1px dashed gray;margin: 0 0.4em 0.5em 0.4em;box-sizing: border-box;padding-bottom: 0.4em;background-color: white;}#sk-container-id-1 div.sk-label label {font-family: monospace;font-weight: bold;display: inline-block;line-height: 1.2em;}#sk-container-id-1 div.sk-label-container {text-align: center;}#sk-container-id-1 div.sk-container {/* jupyter's `normalize.less` sets `[hidden] { display: none; }` but bootstrap.min.css set `[hidden] { display: none !important; }` so we also need the `!important` here to be able to override the default hidden behavior on the sphinx rendered scikit-learn.org. See: https://github.com/scikit-learn/scikit-learn/issues/21755 */display: inline-block !important;position: relative;}#sk-container-id-1 div.sk-text-repr-fallback {display: none;}</style><div id=\"sk-container-id-1\" class=\"sk-top-container\"><div class=\"sk-text-repr-fallback\"><pre>Pipeline(steps=[(&#x27;standardscaler&#x27;, StandardScaler()),\n",
       "                (&#x27;svr&#x27;, SVR(epsilon=0.2))])</pre><b>In a Jupyter environment, please rerun this cell to show the HTML representation or trust the notebook. <br />On GitHub, the HTML representation is unable to render, please try loading this page with nbviewer.org.</b></div><div class=\"sk-container\" hidden><div class=\"sk-item sk-dashed-wrapped\"><div class=\"sk-label-container\"><div class=\"sk-label sk-toggleable\"><input class=\"sk-toggleable__control sk-hidden--visually\" id=\"sk-estimator-id-1\" type=\"checkbox\" ><label for=\"sk-estimator-id-1\" class=\"sk-toggleable__label sk-toggleable__label-arrow\">Pipeline</label><div class=\"sk-toggleable__content\"><pre>Pipeline(steps=[(&#x27;standardscaler&#x27;, StandardScaler()),\n",
       "                (&#x27;svr&#x27;, SVR(epsilon=0.2))])</pre></div></div></div><div class=\"sk-serial\"><div class=\"sk-item\"><div class=\"sk-estimator sk-toggleable\"><input class=\"sk-toggleable__control sk-hidden--visually\" id=\"sk-estimator-id-2\" type=\"checkbox\" ><label for=\"sk-estimator-id-2\" class=\"sk-toggleable__label sk-toggleable__label-arrow\">StandardScaler</label><div class=\"sk-toggleable__content\"><pre>StandardScaler()</pre></div></div></div><div class=\"sk-item\"><div class=\"sk-estimator sk-toggleable\"><input class=\"sk-toggleable__control sk-hidden--visually\" id=\"sk-estimator-id-3\" type=\"checkbox\" ><label for=\"sk-estimator-id-3\" class=\"sk-toggleable__label sk-toggleable__label-arrow\">SVR</label><div class=\"sk-toggleable__content\"><pre>SVR(epsilon=0.2)</pre></div></div></div></div></div></div></div>"
      ],
      "text/plain": [
       "Pipeline(steps=[('standardscaler', StandardScaler()),\n",
       "                ('svr', SVR(epsilon=0.2))])"
      ]
     },
     "execution_count": 8,
     "metadata": {},
     "output_type": "execute_result"
    }
   ],
   "source": [
    "regr = make_pipeline(StandardScaler(), SVR(C=1.0, epsilon=0.2))\n",
    "regr.fit(x_train, y_train)\n",
    "#Pipeline(steps=[('standardscaler', StandardScaler()),\n",
    "               # ('svr', SVR(epsilon=0.2))])"
   ]
  },
  {
   "cell_type": "code",
   "execution_count": 9,
   "id": "22838a1b",
   "metadata": {
    "execution": {
     "iopub.execute_input": "2023-06-21T16:11:05.939083Z",
     "iopub.status.busy": "2023-06-21T16:11:05.938060Z",
     "iopub.status.idle": "2023-06-21T16:11:06.325706Z",
     "shell.execute_reply": "2023-06-21T16:11:06.324464Z"
    },
    "papermill": {
     "duration": 0.400939,
     "end_time": "2023-06-21T16:11:06.328689",
     "exception": false,
     "start_time": "2023-06-21T16:11:05.927750",
     "status": "completed"
    },
    "tags": []
   },
   "outputs": [],
   "source": [
    "ynew=regr.predict(x_train)"
   ]
  },
  {
   "cell_type": "code",
   "execution_count": 10,
   "id": "f9c42bd4",
   "metadata": {
    "execution": {
     "iopub.execute_input": "2023-06-21T16:11:06.347837Z",
     "iopub.status.busy": "2023-06-21T16:11:06.347363Z",
     "iopub.status.idle": "2023-06-21T16:11:06.356845Z",
     "shell.execute_reply": "2023-06-21T16:11:06.355470Z"
    },
    "papermill": {
     "duration": 0.022059,
     "end_time": "2023-06-21T16:11:06.359310",
     "exception": false,
     "start_time": "2023-06-21T16:11:06.337251",
     "status": "completed"
    },
    "tags": []
   },
   "outputs": [
    {
     "data": {
      "text/plain": [
       "2.1701222454162594"
      ]
     },
     "execution_count": 10,
     "metadata": {},
     "output_type": "execute_result"
    }
   ],
   "source": [
    "mse=mean_squared_error(y_train,ynew)\n",
    "rmse=np.sqrt(mse)\n",
    "rmse"
   ]
  },
  {
   "cell_type": "code",
   "execution_count": 11,
   "id": "9284c3af",
   "metadata": {
    "execution": {
     "iopub.execute_input": "2023-06-21T16:11:06.378933Z",
     "iopub.status.busy": "2023-06-21T16:11:06.378430Z",
     "iopub.status.idle": "2023-06-21T16:11:06.429294Z",
     "shell.execute_reply": "2023-06-21T16:11:06.427961Z"
    },
    "papermill": {
     "duration": 0.064107,
     "end_time": "2023-06-21T16:11:06.432342",
     "exception": false,
     "start_time": "2023-06-21T16:11:06.368235",
     "status": "completed"
    },
    "tags": []
   },
   "outputs": [],
   "source": [
    "y1=regr.predict(x_value)"
   ]
  },
  {
   "cell_type": "code",
   "execution_count": 12,
   "id": "8f757921",
   "metadata": {
    "execution": {
     "iopub.execute_input": "2023-06-21T16:11:06.452467Z",
     "iopub.status.busy": "2023-06-21T16:11:06.451340Z",
     "iopub.status.idle": "2023-06-21T16:11:06.460739Z",
     "shell.execute_reply": "2023-06-21T16:11:06.459466Z"
    },
    "papermill": {
     "duration": 0.02223,
     "end_time": "2023-06-21T16:11:06.463272",
     "exception": false,
     "start_time": "2023-06-21T16:11:06.441042",
     "status": "completed"
    },
    "tags": []
   },
   "outputs": [
    {
     "data": {
      "text/plain": [
       "2.023634856934341"
      ]
     },
     "execution_count": 12,
     "metadata": {},
     "output_type": "execute_result"
    }
   ],
   "source": [
    "e1=mean_squared_error(y_value,y1)\n",
    "rems=np.sqrt(e1)\n",
    "rems"
   ]
  },
  {
   "cell_type": "code",
   "execution_count": 13,
   "id": "4fbef253",
   "metadata": {
    "execution": {
     "iopub.execute_input": "2023-06-21T16:11:06.483520Z",
     "iopub.status.busy": "2023-06-21T16:11:06.483073Z",
     "iopub.status.idle": "2023-06-21T16:11:06.500174Z",
     "shell.execute_reply": "2023-06-21T16:11:06.499148Z"
    },
    "papermill": {
     "duration": 0.030635,
     "end_time": "2023-06-21T16:11:06.503019",
     "exception": false,
     "start_time": "2023-06-21T16:11:06.472384",
     "status": "completed"
    },
    "tags": []
   },
   "outputs": [],
   "source": [
    "test=pd.read_csv('/kaggle/input/practice-hackathon/Test.csv')\n"
   ]
  },
  {
   "cell_type": "code",
   "execution_count": 14,
   "id": "dbbdb6e6",
   "metadata": {
    "execution": {
     "iopub.execute_input": "2023-06-21T16:11:06.524682Z",
     "iopub.status.busy": "2023-06-21T16:11:06.523366Z",
     "iopub.status.idle": "2023-06-21T16:11:06.544723Z",
     "shell.execute_reply": "2023-06-21T16:11:06.543485Z"
    },
    "papermill": {
     "duration": 0.035248,
     "end_time": "2023-06-21T16:11:06.547506",
     "exception": false,
     "start_time": "2023-06-21T16:11:06.512258",
     "status": "completed"
    },
    "tags": []
   },
   "outputs": [
    {
     "data": {
      "text/html": [
       "<div>\n",
       "<style scoped>\n",
       "    .dataframe tbody tr th:only-of-type {\n",
       "        vertical-align: middle;\n",
       "    }\n",
       "\n",
       "    .dataframe tbody tr th {\n",
       "        vertical-align: top;\n",
       "    }\n",
       "\n",
       "    .dataframe thead th {\n",
       "        text-align: right;\n",
       "    }\n",
       "</style>\n",
       "<table border=\"1\" class=\"dataframe\">\n",
       "  <thead>\n",
       "    <tr style=\"text-align: right;\">\n",
       "      <th></th>\n",
       "      <th>Index</th>\n",
       "      <th>A</th>\n",
       "      <th>B</th>\n",
       "      <th>C</th>\n",
       "      <th>D</th>\n",
       "      <th>E</th>\n",
       "      <th>F</th>\n",
       "      <th>G</th>\n",
       "      <th>H</th>\n",
       "    </tr>\n",
       "  </thead>\n",
       "  <tbody>\n",
       "    <tr>\n",
       "      <th>0</th>\n",
       "      <td>866</td>\n",
       "      <td>M</td>\n",
       "      <td>0.605</td>\n",
       "      <td>0.455</td>\n",
       "      <td>0.160</td>\n",
       "      <td>1.1035</td>\n",
       "      <td>0.4210</td>\n",
       "      <td>0.3015</td>\n",
       "      <td>0.325</td>\n",
       "    </tr>\n",
       "    <tr>\n",
       "      <th>1</th>\n",
       "      <td>1483</td>\n",
       "      <td>M</td>\n",
       "      <td>0.590</td>\n",
       "      <td>0.440</td>\n",
       "      <td>0.150</td>\n",
       "      <td>0.8725</td>\n",
       "      <td>0.3870</td>\n",
       "      <td>0.2150</td>\n",
       "      <td>0.245</td>\n",
       "    </tr>\n",
       "    <tr>\n",
       "      <th>2</th>\n",
       "      <td>599</td>\n",
       "      <td>F</td>\n",
       "      <td>0.560</td>\n",
       "      <td>0.445</td>\n",
       "      <td>0.195</td>\n",
       "      <td>0.9810</td>\n",
       "      <td>0.3050</td>\n",
       "      <td>0.2245</td>\n",
       "      <td>0.335</td>\n",
       "    </tr>\n",
       "    <tr>\n",
       "      <th>3</th>\n",
       "      <td>1702</td>\n",
       "      <td>F</td>\n",
       "      <td>0.635</td>\n",
       "      <td>0.490</td>\n",
       "      <td>0.170</td>\n",
       "      <td>1.2615</td>\n",
       "      <td>0.5385</td>\n",
       "      <td>0.2665</td>\n",
       "      <td>0.380</td>\n",
       "    </tr>\n",
       "    <tr>\n",
       "      <th>4</th>\n",
       "      <td>670</td>\n",
       "      <td>M</td>\n",
       "      <td>0.475</td>\n",
       "      <td>0.385</td>\n",
       "      <td>0.145</td>\n",
       "      <td>0.6175</td>\n",
       "      <td>0.2350</td>\n",
       "      <td>0.1080</td>\n",
       "      <td>0.215</td>\n",
       "    </tr>\n",
       "  </tbody>\n",
       "</table>\n",
       "</div>"
      ],
      "text/plain": [
       "   Index  A      B      C      D       E       F       G      H\n",
       "0    866  M  0.605  0.455  0.160  1.1035  0.4210  0.3015  0.325\n",
       "1   1483  M  0.590  0.440  0.150  0.8725  0.3870  0.2150  0.245\n",
       "2    599  F  0.560  0.445  0.195  0.9810  0.3050  0.2245  0.335\n",
       "3   1702  F  0.635  0.490  0.170  1.2615  0.5385  0.2665  0.380\n",
       "4    670  M  0.475  0.385  0.145  0.6175  0.2350  0.1080  0.215"
      ]
     },
     "execution_count": 14,
     "metadata": {},
     "output_type": "execute_result"
    }
   ],
   "source": [
    "test.head()"
   ]
  },
  {
   "cell_type": "code",
   "execution_count": 15,
   "id": "2dc2aa5b",
   "metadata": {
    "execution": {
     "iopub.execute_input": "2023-06-21T16:11:06.570597Z",
     "iopub.status.busy": "2023-06-21T16:11:06.569509Z",
     "iopub.status.idle": "2023-06-21T16:11:06.597033Z",
     "shell.execute_reply": "2023-06-21T16:11:06.594874Z"
    },
    "papermill": {
     "duration": 0.042648,
     "end_time": "2023-06-21T16:11:06.599986",
     "exception": false,
     "start_time": "2023-06-21T16:11:06.557338",
     "status": "completed"
    },
    "tags": []
   },
   "outputs": [
    {
     "data": {
      "text/html": [
       "<div>\n",
       "<style scoped>\n",
       "    .dataframe tbody tr th:only-of-type {\n",
       "        vertical-align: middle;\n",
       "    }\n",
       "\n",
       "    .dataframe tbody tr th {\n",
       "        vertical-align: top;\n",
       "    }\n",
       "\n",
       "    .dataframe thead th {\n",
       "        text-align: right;\n",
       "    }\n",
       "</style>\n",
       "<table border=\"1\" class=\"dataframe\">\n",
       "  <thead>\n",
       "    <tr style=\"text-align: right;\">\n",
       "      <th></th>\n",
       "      <th>Index</th>\n",
       "      <th>A</th>\n",
       "      <th>B</th>\n",
       "      <th>C</th>\n",
       "      <th>D</th>\n",
       "      <th>E</th>\n",
       "      <th>F</th>\n",
       "      <th>G</th>\n",
       "      <th>H</th>\n",
       "    </tr>\n",
       "  </thead>\n",
       "  <tbody>\n",
       "    <tr>\n",
       "      <th>0</th>\n",
       "      <td>866</td>\n",
       "      <td>2</td>\n",
       "      <td>0.605</td>\n",
       "      <td>0.455</td>\n",
       "      <td>0.160</td>\n",
       "      <td>1.1035</td>\n",
       "      <td>0.4210</td>\n",
       "      <td>0.3015</td>\n",
       "      <td>0.325</td>\n",
       "    </tr>\n",
       "    <tr>\n",
       "      <th>1</th>\n",
       "      <td>1483</td>\n",
       "      <td>2</td>\n",
       "      <td>0.590</td>\n",
       "      <td>0.440</td>\n",
       "      <td>0.150</td>\n",
       "      <td>0.8725</td>\n",
       "      <td>0.3870</td>\n",
       "      <td>0.2150</td>\n",
       "      <td>0.245</td>\n",
       "    </tr>\n",
       "    <tr>\n",
       "      <th>2</th>\n",
       "      <td>599</td>\n",
       "      <td>0</td>\n",
       "      <td>0.560</td>\n",
       "      <td>0.445</td>\n",
       "      <td>0.195</td>\n",
       "      <td>0.9810</td>\n",
       "      <td>0.3050</td>\n",
       "      <td>0.2245</td>\n",
       "      <td>0.335</td>\n",
       "    </tr>\n",
       "    <tr>\n",
       "      <th>3</th>\n",
       "      <td>1702</td>\n",
       "      <td>0</td>\n",
       "      <td>0.635</td>\n",
       "      <td>0.490</td>\n",
       "      <td>0.170</td>\n",
       "      <td>1.2615</td>\n",
       "      <td>0.5385</td>\n",
       "      <td>0.2665</td>\n",
       "      <td>0.380</td>\n",
       "    </tr>\n",
       "    <tr>\n",
       "      <th>4</th>\n",
       "      <td>670</td>\n",
       "      <td>2</td>\n",
       "      <td>0.475</td>\n",
       "      <td>0.385</td>\n",
       "      <td>0.145</td>\n",
       "      <td>0.6175</td>\n",
       "      <td>0.2350</td>\n",
       "      <td>0.1080</td>\n",
       "      <td>0.215</td>\n",
       "    </tr>\n",
       "  </tbody>\n",
       "</table>\n",
       "</div>"
      ],
      "text/plain": [
       "   Index  A      B      C      D       E       F       G      H\n",
       "0    866  2  0.605  0.455  0.160  1.1035  0.4210  0.3015  0.325\n",
       "1   1483  2  0.590  0.440  0.150  0.8725  0.3870  0.2150  0.245\n",
       "2    599  0  0.560  0.445  0.195  0.9810  0.3050  0.2245  0.335\n",
       "3   1702  0  0.635  0.490  0.170  1.2615  0.5385  0.2665  0.380\n",
       "4    670  2  0.475  0.385  0.145  0.6175  0.2350  0.1080  0.215"
      ]
     },
     "execution_count": 15,
     "metadata": {},
     "output_type": "execute_result"
    }
   ],
   "source": [
    "test['A']=label.fit_transform(test['A'])\n",
    "test.head()"
   ]
  },
  {
   "cell_type": "code",
   "execution_count": 16,
   "id": "2fb08c1d",
   "metadata": {
    "execution": {
     "iopub.execute_input": "2023-06-21T16:11:06.622483Z",
     "iopub.status.busy": "2023-06-21T16:11:06.622024Z",
     "iopub.status.idle": "2023-06-21T16:11:06.629805Z",
     "shell.execute_reply": "2023-06-21T16:11:06.627969Z"
    },
    "papermill": {
     "duration": 0.023202,
     "end_time": "2023-06-21T16:11:06.633315",
     "exception": false,
     "start_time": "2023-06-21T16:11:06.610113",
     "status": "completed"
    },
    "tags": []
   },
   "outputs": [],
   "source": [
    "Index=test['Index']\n",
    "test.drop(['Index'],axis=1,inplace=True)"
   ]
  },
  {
   "cell_type": "code",
   "execution_count": 17,
   "id": "170a77c2",
   "metadata": {
    "execution": {
     "iopub.execute_input": "2023-06-21T16:11:06.654949Z",
     "iopub.status.busy": "2023-06-21T16:11:06.654447Z",
     "iopub.status.idle": "2023-06-21T16:11:06.801193Z",
     "shell.execute_reply": "2023-06-21T16:11:06.799645Z"
    },
    "papermill": {
     "duration": 0.161775,
     "end_time": "2023-06-21T16:11:06.804593",
     "exception": false,
     "start_time": "2023-06-21T16:11:06.642818",
     "status": "completed"
    },
    "tags": []
   },
   "outputs": [],
   "source": [
    "y_test=regr.predict(test)"
   ]
  },
  {
   "cell_type": "code",
   "execution_count": 18,
   "id": "8f50096a",
   "metadata": {
    "execution": {
     "iopub.execute_input": "2023-06-21T16:11:06.825445Z",
     "iopub.status.busy": "2023-06-21T16:11:06.825002Z",
     "iopub.status.idle": "2023-06-21T16:11:06.834194Z",
     "shell.execute_reply": "2023-06-21T16:11:06.832640Z"
    },
    "papermill": {
     "duration": 0.023113,
     "end_time": "2023-06-21T16:11:06.836996",
     "exception": false,
     "start_time": "2023-06-21T16:11:06.813883",
     "status": "completed"
    },
    "tags": []
   },
   "outputs": [],
   "source": [
    "result = pd.DataFrame(Index, columns = ['Index'])\n",
    "result['Target']= y_test"
   ]
  },
  {
   "cell_type": "code",
   "execution_count": 19,
   "id": "aab7299f",
   "metadata": {
    "execution": {
     "iopub.execute_input": "2023-06-21T16:11:06.858531Z",
     "iopub.status.busy": "2023-06-21T16:11:06.857343Z",
     "iopub.status.idle": "2023-06-21T16:11:06.874653Z",
     "shell.execute_reply": "2023-06-21T16:11:06.873095Z"
    },
    "papermill": {
     "duration": 0.03139,
     "end_time": "2023-06-21T16:11:06.877726",
     "exception": false,
     "start_time": "2023-06-21T16:11:06.846336",
     "status": "completed"
    },
    "tags": []
   },
   "outputs": [
    {
     "data": {
      "text/html": [
       "<div>\n",
       "<style scoped>\n",
       "    .dataframe tbody tr th:only-of-type {\n",
       "        vertical-align: middle;\n",
       "    }\n",
       "\n",
       "    .dataframe tbody tr th {\n",
       "        vertical-align: top;\n",
       "    }\n",
       "\n",
       "    .dataframe thead th {\n",
       "        text-align: right;\n",
       "    }\n",
       "</style>\n",
       "<table border=\"1\" class=\"dataframe\">\n",
       "  <thead>\n",
       "    <tr style=\"text-align: right;\">\n",
       "      <th></th>\n",
       "      <th>Index</th>\n",
       "      <th>Target</th>\n",
       "    </tr>\n",
       "  </thead>\n",
       "  <tbody>\n",
       "    <tr>\n",
       "      <th>0</th>\n",
       "      <td>866</td>\n",
       "      <td>11.585876</td>\n",
       "    </tr>\n",
       "    <tr>\n",
       "      <th>1</th>\n",
       "      <td>1483</td>\n",
       "      <td>9.764972</td>\n",
       "    </tr>\n",
       "    <tr>\n",
       "      <th>2</th>\n",
       "      <td>599</td>\n",
       "      <td>13.773584</td>\n",
       "    </tr>\n",
       "    <tr>\n",
       "      <th>3</th>\n",
       "      <td>1702</td>\n",
       "      <td>11.165861</td>\n",
       "    </tr>\n",
       "    <tr>\n",
       "      <th>4</th>\n",
       "      <td>670</td>\n",
       "      <td>11.084474</td>\n",
       "    </tr>\n",
       "    <tr>\n",
       "      <th>...</th>\n",
       "      <td>...</td>\n",
       "      <td>...</td>\n",
       "    </tr>\n",
       "    <tr>\n",
       "      <th>1040</th>\n",
       "      <td>532</td>\n",
       "      <td>8.713698</td>\n",
       "    </tr>\n",
       "    <tr>\n",
       "      <th>1041</th>\n",
       "      <td>3417</td>\n",
       "      <td>9.399651</td>\n",
       "    </tr>\n",
       "    <tr>\n",
       "      <th>1042</th>\n",
       "      <td>1505</td>\n",
       "      <td>11.647779</td>\n",
       "    </tr>\n",
       "    <tr>\n",
       "      <th>1043</th>\n",
       "      <td>2245</td>\n",
       "      <td>11.131807</td>\n",
       "    </tr>\n",
       "    <tr>\n",
       "      <th>1044</th>\n",
       "      <td>2428</td>\n",
       "      <td>9.357903</td>\n",
       "    </tr>\n",
       "  </tbody>\n",
       "</table>\n",
       "<p>1045 rows × 2 columns</p>\n",
       "</div>"
      ],
      "text/plain": [
       "      Index     Target\n",
       "0       866  11.585876\n",
       "1      1483   9.764972\n",
       "2       599  13.773584\n",
       "3      1702  11.165861\n",
       "4       670  11.084474\n",
       "...     ...        ...\n",
       "1040    532   8.713698\n",
       "1041   3417   9.399651\n",
       "1042   1505  11.647779\n",
       "1043   2245  11.131807\n",
       "1044   2428   9.357903\n",
       "\n",
       "[1045 rows x 2 columns]"
      ]
     },
     "execution_count": 19,
     "metadata": {},
     "output_type": "execute_result"
    }
   ],
   "source": [
    "result"
   ]
  },
  {
   "cell_type": "code",
   "execution_count": 20,
   "id": "1da51855",
   "metadata": {
    "execution": {
     "iopub.execute_input": "2023-06-21T16:11:06.899873Z",
     "iopub.status.busy": "2023-06-21T16:11:06.899423Z",
     "iopub.status.idle": "2023-06-21T16:11:06.917148Z",
     "shell.execute_reply": "2023-06-21T16:11:06.915758Z"
    },
    "papermill": {
     "duration": 0.032531,
     "end_time": "2023-06-21T16:11:06.920189",
     "exception": false,
     "start_time": "2023-06-21T16:11:06.887658",
     "status": "completed"
    },
    "tags": []
   },
   "outputs": [],
   "source": [
    "result.to_csv(\"submission_new.csv\", index=False)"
   ]
  }
 ],
 "metadata": {
  "kernelspec": {
   "display_name": "Python 3",
   "language": "python",
   "name": "python3"
  },
  "language_info": {
   "codemirror_mode": {
    "name": "ipython",
    "version": 3
   },
   "file_extension": ".py",
   "mimetype": "text/x-python",
   "name": "python",
   "nbconvert_exporter": "python",
   "pygments_lexer": "ipython3",
   "version": "3.10.10"
  },
  "papermill": {
   "default_parameters": {},
   "duration": 18.370092,
   "end_time": "2023-06-21T16:11:07.954965",
   "environment_variables": {},
   "exception": null,
   "input_path": "__notebook__.ipynb",
   "output_path": "__notebook__.ipynb",
   "parameters": {},
   "start_time": "2023-06-21T16:10:49.584873",
   "version": "2.4.0"
  }
 },
 "nbformat": 4,
 "nbformat_minor": 5
}
